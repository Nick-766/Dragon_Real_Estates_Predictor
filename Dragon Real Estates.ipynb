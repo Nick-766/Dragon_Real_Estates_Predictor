{
 "cells": [
  {
   "cell_type": "markdown",
   "id": "43713fff-a49c-461d-847b-6c7a85278c23",
   "metadata": {},
   "source": [
    "## Dragon Real Estates - Price Predictor\n"
   ]
  },
  {
   "cell_type": "code",
   "execution_count": 1,
   "id": "ea805a61-1e61-4a10-a5fe-cd0a50181312",
   "metadata": {},
   "outputs": [
    {
     "data": {
      "text/html": [
       "<div>\n",
       "<style scoped>\n",
       "    .dataframe tbody tr th:only-of-type {\n",
       "        vertical-align: middle;\n",
       "    }\n",
       "\n",
       "    .dataframe tbody tr th {\n",
       "        vertical-align: top;\n",
       "    }\n",
       "\n",
       "    .dataframe thead th {\n",
       "        text-align: right;\n",
       "    }\n",
       "</style>\n",
       "<table border=\"1\" class=\"dataframe\">\n",
       "  <thead>\n",
       "    <tr style=\"text-align: right;\">\n",
       "      <th></th>\n",
       "      <th>CRIM</th>\n",
       "      <th>ZN</th>\n",
       "      <th>INDUS</th>\n",
       "      <th>CHAS</th>\n",
       "      <th>NOX</th>\n",
       "      <th>RM</th>\n",
       "      <th>AGE</th>\n",
       "      <th>DIS</th>\n",
       "      <th>RAD</th>\n",
       "      <th>TAX</th>\n",
       "      <th>PTRATIO</th>\n",
       "      <th>B</th>\n",
       "      <th>LSTAT</th>\n",
       "      <th>MEDV</th>\n",
       "    </tr>\n",
       "  </thead>\n",
       "  <tbody>\n",
       "    <tr>\n",
       "      <th>0</th>\n",
       "      <td>0.02731</td>\n",
       "      <td>0.0</td>\n",
       "      <td>7.07</td>\n",
       "      <td>0</td>\n",
       "      <td>0.469</td>\n",
       "      <td>6.421</td>\n",
       "      <td>78.9</td>\n",
       "      <td>4.9671</td>\n",
       "      <td>2</td>\n",
       "      <td>242</td>\n",
       "      <td>17.8</td>\n",
       "      <td>396.90</td>\n",
       "      <td>9.14</td>\n",
       "      <td>21.6</td>\n",
       "    </tr>\n",
       "    <tr>\n",
       "      <th>1</th>\n",
       "      <td>0.02729</td>\n",
       "      <td>0.0</td>\n",
       "      <td>7.07</td>\n",
       "      <td>0</td>\n",
       "      <td>0.469</td>\n",
       "      <td>7.185</td>\n",
       "      <td>61.1</td>\n",
       "      <td>4.9671</td>\n",
       "      <td>2</td>\n",
       "      <td>242</td>\n",
       "      <td>17.8</td>\n",
       "      <td>392.83</td>\n",
       "      <td>4.03</td>\n",
       "      <td>34.7</td>\n",
       "    </tr>\n",
       "    <tr>\n",
       "      <th>2</th>\n",
       "      <td>0.03237</td>\n",
       "      <td>0.0</td>\n",
       "      <td>2.18</td>\n",
       "      <td>0</td>\n",
       "      <td>0.458</td>\n",
       "      <td>6.998</td>\n",
       "      <td>45.8</td>\n",
       "      <td>6.0622</td>\n",
       "      <td>3</td>\n",
       "      <td>222</td>\n",
       "      <td>18.7</td>\n",
       "      <td>394.63</td>\n",
       "      <td>2.94</td>\n",
       "      <td>33.4</td>\n",
       "    </tr>\n",
       "    <tr>\n",
       "      <th>3</th>\n",
       "      <td>0.06905</td>\n",
       "      <td>0.0</td>\n",
       "      <td>2.18</td>\n",
       "      <td>0</td>\n",
       "      <td>0.458</td>\n",
       "      <td>7.147</td>\n",
       "      <td>54.2</td>\n",
       "      <td>6.0622</td>\n",
       "      <td>3</td>\n",
       "      <td>222</td>\n",
       "      <td>18.7</td>\n",
       "      <td>396.90</td>\n",
       "      <td>5.33</td>\n",
       "      <td>36.2</td>\n",
       "    </tr>\n",
       "    <tr>\n",
       "      <th>4</th>\n",
       "      <td>0.02985</td>\n",
       "      <td>0.0</td>\n",
       "      <td>2.18</td>\n",
       "      <td>0</td>\n",
       "      <td>0.458</td>\n",
       "      <td>6.430</td>\n",
       "      <td>58.7</td>\n",
       "      <td>6.0622</td>\n",
       "      <td>3</td>\n",
       "      <td>222</td>\n",
       "      <td>18.7</td>\n",
       "      <td>394.12</td>\n",
       "      <td>5.21</td>\n",
       "      <td>28.7</td>\n",
       "    </tr>\n",
       "  </tbody>\n",
       "</table>\n",
       "</div>"
      ],
      "text/plain": [
       "      CRIM   ZN  INDUS  CHAS    NOX     RM   AGE     DIS  RAD  TAX  PTRATIO  \\\n",
       "0  0.02731  0.0   7.07     0  0.469  6.421  78.9  4.9671    2  242     17.8   \n",
       "1  0.02729  0.0   7.07     0  0.469  7.185  61.1  4.9671    2  242     17.8   \n",
       "2  0.03237  0.0   2.18     0  0.458  6.998  45.8  6.0622    3  222     18.7   \n",
       "3  0.06905  0.0   2.18     0  0.458  7.147  54.2  6.0622    3  222     18.7   \n",
       "4  0.02985  0.0   2.18     0  0.458  6.430  58.7  6.0622    3  222     18.7   \n",
       "\n",
       "        B  LSTAT  MEDV  \n",
       "0  396.90   9.14  21.6  \n",
       "1  392.83   4.03  34.7  \n",
       "2  394.63   2.94  33.4  \n",
       "3  396.90   5.33  36.2  \n",
       "4  394.12   5.21  28.7  "
      ]
     },
     "execution_count": 1,
     "metadata": {},
     "output_type": "execute_result"
    }
   ],
   "source": [
    "import pandas as pd\n",
    "df=pd.read_csv(\"data.csv\")\n",
    "df.head()"
   ]
  },
  {
   "cell_type": "code",
   "execution_count": 2,
   "id": "4be41e6d-6fb6-4474-bc3f-595f4c62aa81",
   "metadata": {},
   "outputs": [
    {
     "data": {
      "text/plain": [
       "CHAS\n",
       "0    470\n",
       "1     35\n",
       "Name: count, dtype: int64"
      ]
     },
     "execution_count": 2,
     "metadata": {},
     "output_type": "execute_result"
    }
   ],
   "source": [
    "df['CHAS'].value_counts()"
   ]
  },
  {
   "cell_type": "code",
   "execution_count": 3,
   "id": "6e8eb4d5-e90c-4761-9aa3-b93eda54794f",
   "metadata": {},
   "outputs": [
    {
     "data": {
      "text/html": [
       "<div>\n",
       "<style scoped>\n",
       "    .dataframe tbody tr th:only-of-type {\n",
       "        vertical-align: middle;\n",
       "    }\n",
       "\n",
       "    .dataframe tbody tr th {\n",
       "        vertical-align: top;\n",
       "    }\n",
       "\n",
       "    .dataframe thead th {\n",
       "        text-align: right;\n",
       "    }\n",
       "</style>\n",
       "<table border=\"1\" class=\"dataframe\">\n",
       "  <thead>\n",
       "    <tr style=\"text-align: right;\">\n",
       "      <th></th>\n",
       "      <th>CRIM</th>\n",
       "      <th>ZN</th>\n",
       "      <th>INDUS</th>\n",
       "      <th>CHAS</th>\n",
       "      <th>NOX</th>\n",
       "      <th>RM</th>\n",
       "      <th>AGE</th>\n",
       "      <th>DIS</th>\n",
       "      <th>RAD</th>\n",
       "      <th>TAX</th>\n",
       "      <th>PTRATIO</th>\n",
       "      <th>B</th>\n",
       "      <th>LSTAT</th>\n",
       "      <th>MEDV</th>\n",
       "    </tr>\n",
       "  </thead>\n",
       "  <tbody>\n",
       "    <tr>\n",
       "      <th>count</th>\n",
       "      <td>505.000000</td>\n",
       "      <td>505.000000</td>\n",
       "      <td>505.000000</td>\n",
       "      <td>505.000000</td>\n",
       "      <td>505.000000</td>\n",
       "      <td>500.000000</td>\n",
       "      <td>505.000000</td>\n",
       "      <td>505.000000</td>\n",
       "      <td>505.000000</td>\n",
       "      <td>505.000000</td>\n",
       "      <td>505.000000</td>\n",
       "      <td>505.000000</td>\n",
       "      <td>505.000000</td>\n",
       "      <td>505.000000</td>\n",
       "    </tr>\n",
       "    <tr>\n",
       "      <th>mean</th>\n",
       "      <td>3.620422</td>\n",
       "      <td>11.386139</td>\n",
       "      <td>11.125584</td>\n",
       "      <td>0.069307</td>\n",
       "      <td>0.554453</td>\n",
       "      <td>6.282738</td>\n",
       "      <td>68.530099</td>\n",
       "      <td>3.802703</td>\n",
       "      <td>9.568317</td>\n",
       "      <td>408.443564</td>\n",
       "      <td>18.444158</td>\n",
       "      <td>356.601208</td>\n",
       "      <td>12.667782</td>\n",
       "      <td>22.553109</td>\n",
       "    </tr>\n",
       "    <tr>\n",
       "      <th>std</th>\n",
       "      <td>8.608673</td>\n",
       "      <td>23.340080</td>\n",
       "      <td>6.869353</td>\n",
       "      <td>0.254227</td>\n",
       "      <td>0.116049</td>\n",
       "      <td>0.705081</td>\n",
       "      <td>28.160101</td>\n",
       "      <td>2.106717</td>\n",
       "      <td>8.705715</td>\n",
       "      <td>168.651506</td>\n",
       "      <td>2.161324</td>\n",
       "      <td>91.370677</td>\n",
       "      <td>7.141386</td>\n",
       "      <td>9.194075</td>\n",
       "    </tr>\n",
       "    <tr>\n",
       "      <th>min</th>\n",
       "      <td>0.006320</td>\n",
       "      <td>0.000000</td>\n",
       "      <td>0.460000</td>\n",
       "      <td>0.000000</td>\n",
       "      <td>0.385000</td>\n",
       "      <td>3.561000</td>\n",
       "      <td>2.900000</td>\n",
       "      <td>1.129600</td>\n",
       "      <td>1.000000</td>\n",
       "      <td>187.000000</td>\n",
       "      <td>12.600000</td>\n",
       "      <td>0.320000</td>\n",
       "      <td>1.730000</td>\n",
       "      <td>5.000000</td>\n",
       "    </tr>\n",
       "    <tr>\n",
       "      <th>25%</th>\n",
       "      <td>0.081990</td>\n",
       "      <td>0.000000</td>\n",
       "      <td>5.190000</td>\n",
       "      <td>0.000000</td>\n",
       "      <td>0.449000</td>\n",
       "      <td>5.883000</td>\n",
       "      <td>45.000000</td>\n",
       "      <td>2.100000</td>\n",
       "      <td>4.000000</td>\n",
       "      <td>279.000000</td>\n",
       "      <td>17.400000</td>\n",
       "      <td>375.330000</td>\n",
       "      <td>7.010000</td>\n",
       "      <td>17.100000</td>\n",
       "    </tr>\n",
       "    <tr>\n",
       "      <th>50%</th>\n",
       "      <td>0.259150</td>\n",
       "      <td>0.000000</td>\n",
       "      <td>9.690000</td>\n",
       "      <td>0.000000</td>\n",
       "      <td>0.538000</td>\n",
       "      <td>6.208500</td>\n",
       "      <td>77.300000</td>\n",
       "      <td>3.215700</td>\n",
       "      <td>5.000000</td>\n",
       "      <td>330.000000</td>\n",
       "      <td>19.000000</td>\n",
       "      <td>391.430000</td>\n",
       "      <td>11.380000</td>\n",
       "      <td>21.200000</td>\n",
       "    </tr>\n",
       "    <tr>\n",
       "      <th>75%</th>\n",
       "      <td>3.678220</td>\n",
       "      <td>12.500000</td>\n",
       "      <td>18.100000</td>\n",
       "      <td>0.000000</td>\n",
       "      <td>0.624000</td>\n",
       "      <td>6.618250</td>\n",
       "      <td>94.100000</td>\n",
       "      <td>5.211900</td>\n",
       "      <td>24.000000</td>\n",
       "      <td>666.000000</td>\n",
       "      <td>20.200000</td>\n",
       "      <td>396.230000</td>\n",
       "      <td>16.960000</td>\n",
       "      <td>25.000000</td>\n",
       "    </tr>\n",
       "    <tr>\n",
       "      <th>max</th>\n",
       "      <td>88.976200</td>\n",
       "      <td>100.000000</td>\n",
       "      <td>27.740000</td>\n",
       "      <td>1.000000</td>\n",
       "      <td>0.871000</td>\n",
       "      <td>8.780000</td>\n",
       "      <td>100.000000</td>\n",
       "      <td>12.126500</td>\n",
       "      <td>24.000000</td>\n",
       "      <td>711.000000</td>\n",
       "      <td>22.000000</td>\n",
       "      <td>396.900000</td>\n",
       "      <td>37.970000</td>\n",
       "      <td>50.000000</td>\n",
       "    </tr>\n",
       "  </tbody>\n",
       "</table>\n",
       "</div>"
      ],
      "text/plain": [
       "             CRIM          ZN       INDUS        CHAS         NOX          RM  \\\n",
       "count  505.000000  505.000000  505.000000  505.000000  505.000000  500.000000   \n",
       "mean     3.620422   11.386139   11.125584    0.069307    0.554453    6.282738   \n",
       "std      8.608673   23.340080    6.869353    0.254227    0.116049    0.705081   \n",
       "min      0.006320    0.000000    0.460000    0.000000    0.385000    3.561000   \n",
       "25%      0.081990    0.000000    5.190000    0.000000    0.449000    5.883000   \n",
       "50%      0.259150    0.000000    9.690000    0.000000    0.538000    6.208500   \n",
       "75%      3.678220   12.500000   18.100000    0.000000    0.624000    6.618250   \n",
       "max     88.976200  100.000000   27.740000    1.000000    0.871000    8.780000   \n",
       "\n",
       "              AGE         DIS         RAD         TAX     PTRATIO           B  \\\n",
       "count  505.000000  505.000000  505.000000  505.000000  505.000000  505.000000   \n",
       "mean    68.530099    3.802703    9.568317  408.443564   18.444158  356.601208   \n",
       "std     28.160101    2.106717    8.705715  168.651506    2.161324   91.370677   \n",
       "min      2.900000    1.129600    1.000000  187.000000   12.600000    0.320000   \n",
       "25%     45.000000    2.100000    4.000000  279.000000   17.400000  375.330000   \n",
       "50%     77.300000    3.215700    5.000000  330.000000   19.000000  391.430000   \n",
       "75%     94.100000    5.211900   24.000000  666.000000   20.200000  396.230000   \n",
       "max    100.000000   12.126500   24.000000  711.000000   22.000000  396.900000   \n",
       "\n",
       "            LSTAT        MEDV  \n",
       "count  505.000000  505.000000  \n",
       "mean    12.667782   22.553109  \n",
       "std      7.141386    9.194075  \n",
       "min      1.730000    5.000000  \n",
       "25%      7.010000   17.100000  \n",
       "50%     11.380000   21.200000  \n",
       "75%     16.960000   25.000000  \n",
       "max     37.970000   50.000000  "
      ]
     },
     "execution_count": 3,
     "metadata": {},
     "output_type": "execute_result"
    }
   ],
   "source": [
    "df.describe()"
   ]
  },
  {
   "cell_type": "markdown",
   "id": "a45ecb1a-080b-448a-b07f-3d6a9297d551",
   "metadata": {},
   "source": [
    "## its for only learing a different method of spliting..\n",
    "import numpy as np\n",
    "def split_train_test(data, test_ratio):\n",
    "    np.random.seed(42) # It is used to fixed the same value in random number generation\n",
    "    suffled=np.random.permutation(len(data))\n",
    "    test_set_size=int(len(data)*test_ratio)\n",
    "    test_indices=suffled[:test_set_size]\n",
    "    train_indices=suffled[test_set_size:]\n",
    "    return data.iloc[train_indices],data.iloc[test_indices]"
   ]
  },
  {
   "cell_type": "code",
   "execution_count": 4,
   "id": "f32e0879-6261-4bbc-94e6-c933df159009",
   "metadata": {},
   "outputs": [],
   "source": [
    "#train_set,test_set=split_train_test(df,0.2)"
   ]
  },
  {
   "cell_type": "code",
   "execution_count": 5,
   "id": "d1e49d01-2130-435e-9cb7-a1196cac7aa8",
   "metadata": {},
   "outputs": [],
   "source": [
    "#print(f\"Rows in train set:{len(train_set)}\\n Rows in test set: {len(test_set)}\\n\")"
   ]
  },
  {
   "cell_type": "code",
   "execution_count": 6,
   "id": "124fec65-217b-4b70-aa93-d76a095116c2",
   "metadata": {},
   "outputs": [
    {
     "name": "stdout",
     "output_type": "stream",
     "text": [
      "Rows in train set:404\n",
      " Rows in test set: 101\n",
      "\n"
     ]
    }
   ],
   "source": [
    "from sklearn.model_selection import train_test_split\n",
    "train_set,test_set=train_test_split(df,test_size=0.2,random_state=42)\n",
    "print(f\"Rows in train set:{len(train_set)}\\n Rows in test set: {len(test_set)}\\n\")\n"
   ]
  },
  {
   "cell_type": "code",
   "execution_count": 7,
   "id": "08797b57-e0e6-4afb-b7f4-686bf569560a",
   "metadata": {},
   "outputs": [
    {
     "data": {
      "text/plain": [
       "CHAS\n",
       "0    94\n",
       "1     7\n",
       "Name: count, dtype: int64"
      ]
     },
     "execution_count": 7,
     "metadata": {},
     "output_type": "execute_result"
    }
   ],
   "source": [
    "test_set['CHAS'].value_counts()"
   ]
  },
  {
   "cell_type": "code",
   "execution_count": 8,
   "id": "9618f0d8-d72c-4666-a2cb-8ad8a2331fb9",
   "metadata": {},
   "outputs": [],
   "source": [
    "df=train_set.copy()"
   ]
  },
  {
   "cell_type": "code",
   "execution_count": 9,
   "id": "e8801d6e-76b1-4698-a482-1f409ba8ff29",
   "metadata": {},
   "outputs": [
    {
     "name": "stdout",
     "output_type": "stream",
     "text": [
      "<class 'pandas.core.frame.DataFrame'>\n",
      "Index: 101 entries, 173 to 86\n",
      "Data columns (total 14 columns):\n",
      " #   Column   Non-Null Count  Dtype  \n",
      "---  ------   --------------  -----  \n",
      " 0   CRIM     101 non-null    float64\n",
      " 1   ZN       101 non-null    float64\n",
      " 2   INDUS    101 non-null    float64\n",
      " 3   CHAS     101 non-null    int64  \n",
      " 4   NOX      101 non-null    float64\n",
      " 5   RM       101 non-null    float64\n",
      " 6   AGE      101 non-null    float64\n",
      " 7   DIS      101 non-null    float64\n",
      " 8   RAD      101 non-null    int64  \n",
      " 9   TAX      101 non-null    int64  \n",
      " 10  PTRATIO  101 non-null    float64\n",
      " 11  B        101 non-null    float64\n",
      " 12  LSTAT    101 non-null    float64\n",
      " 13  MEDV     101 non-null    float64\n",
      "dtypes: float64(11), int64(3)\n",
      "memory usage: 11.8 KB\n"
     ]
    }
   ],
   "source": [
    "test_set.info()"
   ]
  },
  {
   "cell_type": "markdown",
   "id": "2ea73cfa-023a-4c63-9dcd-61826b8c40c2",
   "metadata": {},
   "source": [
    " ## Looking for correletion"
   ]
  },
  {
   "cell_type": "code",
   "execution_count": 10,
   "id": "fe6dc65e-4719-4cb1-af0a-95c9e0185efb",
   "metadata": {},
   "outputs": [],
   "source": [
    "corr_matrix=df.corr()"
   ]
  },
  {
   "cell_type": "code",
   "execution_count": 11,
   "id": "f81945cb-2c3a-404a-a2d2-d5a43431c50f",
   "metadata": {},
   "outputs": [
    {
     "data": {
      "text/plain": [
       "MEDV       1.000000\n",
       "RM         0.707904\n",
       "B          0.357558\n",
       "ZN         0.311802\n",
       "DIS        0.209112\n",
       "CHAS       0.190813\n",
       "AGE       -0.332112\n",
       "RAD       -0.382957\n",
       "CRIM      -0.384997\n",
       "NOX       -0.405806\n",
       "TAX       -0.456149\n",
       "INDUS     -0.462293\n",
       "PTRATIO   -0.494536\n",
       "LSTAT     -0.742684\n",
       "Name: MEDV, dtype: float64"
      ]
     },
     "execution_count": 11,
     "metadata": {},
     "output_type": "execute_result"
    }
   ],
   "source": [
    "corr_matrix['MEDV'].sort_values(ascending=False)"
   ]
  },
  {
   "cell_type": "code",
   "execution_count": 12,
   "id": "342525ad-1c59-4080-8cb5-0b6f0d1bb842",
   "metadata": {},
   "outputs": [],
   "source": [
    "#from pandas.plotting import scatter_matrix\n",
    "#attributes=['MEDV','RM','ZN','LSTAT']\n",
    "#scatter_matrix(df[attributes],figsize=(12,8))"
   ]
  },
  {
   "cell_type": "code",
   "execution_count": 13,
   "id": "f2e2910c-46c8-48e9-b939-71c57696661a",
   "metadata": {},
   "outputs": [
    {
     "data": {
      "text/plain": [
       "<Axes: xlabel='RM', ylabel='MEDV'>"
      ]
     },
     "execution_count": 13,
     "metadata": {},
     "output_type": "execute_result"
    },
    {
     "data": {
      "image/png": "[encoded data removed]",
      "text/plain": [
       "<Figure size 640x480 with 1 Axes>"
      ]
     },
     "metadata": {},
     "output_type": "display_data"
    }
   ],
   "source": [
    "df.plot(kind=\"scatter\",x=\"RM\",y=\"MEDV\",alpha=0.7)"
   ]
  },
  {
   "cell_type": "markdown",
   "id": "e4edca82-b41a-47f4-8153-59034962fed0",
   "metadata": {},
   "source": [
    "## Trying Out Attribute Combination"
   ]
  },
  {
   "cell_type": "code",
   "execution_count": 14,
   "id": "87c2c573-5637-4aa3-ae81-043026b85db4",
   "metadata": {},
   "outputs": [],
   "source": [
    "df['TAXRM']=df['TAX']/df['RM']"
   ]
  },
  {
   "cell_type": "code",
   "execution_count": 15,
   "id": "f3a0a76e-d90c-4cec-b29d-7a0aaa7fc197",
   "metadata": {},
   "outputs": [
    {
     "data": {
      "text/plain": [
       "75      63.385889\n",
       "442    102.698535\n",
       "15      51.727043\n",
       "325     45.468948\n",
       "388    123.562152\n",
       "          ...    \n",
       "106     62.673413\n",
       "270     35.737179\n",
       "348     48.277850\n",
       "435    103.080019\n",
       "102     62.571289\n",
       "Name: TAXRM, Length: 404, dtype: float64"
      ]
     },
     "execution_count": 15,
     "metadata": {},
     "output_type": "execute_result"
    }
   ],
   "source": [
    "df['TAXRM']"
   ]
  },
  {
   "cell_type": "code",
   "execution_count": 16,
   "id": "e0e6625e-3fc0-43d5-9045-25d7883ef67d",
   "metadata": {},
   "outputs": [
    {
     "data": {
      "text/plain": [
       "MEDV       1.000000\n",
       "RM         0.707904\n",
       "B          0.357558\n",
       "ZN         0.311802\n",
       "DIS        0.209112\n",
       "CHAS       0.190813\n",
       "AGE       -0.332112\n",
       "RAD       -0.382957\n",
       "CRIM      -0.384997\n",
       "NOX       -0.405806\n",
       "TAX       -0.456149\n",
       "INDUS     -0.462293\n",
       "PTRATIO   -0.494536\n",
       "TAXRM     -0.541040\n",
       "LSTAT     -0.742684\n",
       "Name: MEDV, dtype: float64"
      ]
     },
     "execution_count": 16,
     "metadata": {},
     "output_type": "execute_result"
    }
   ],
   "source": [
    "corr_matrix=df.corr()\n",
    "corr_matrix['MEDV'].sort_values(ascending=False)"
   ]
  },
  {
   "cell_type": "code",
   "execution_count": 17,
   "id": "b40b4041-e2e5-4f8f-b872-12bb2f1f9033",
   "metadata": {},
   "outputs": [],
   "source": [
    "df=train_set.drop('MEDV',axis=1)\n",
    "df_labels=train_set['MEDV'].copy()"
   ]
  },
  {
   "cell_type": "markdown",
   "id": "35814b4c-82c8-4d95-aedb-94c032594133",
   "metadata": {},
   "source": [
    "## MISSING ATTRIBUTES"
   ]
  },
  {
   "cell_type": "code",
   "execution_count": 18,
   "id": "d51d4bc7-47bb-4504-9fc5-a89170ceb4a7",
   "metadata": {},
   "outputs": [],
   "source": [
    "# To take care of missing Attributes, You have three options...\n",
    "# 1. Get rid of missing data points.\n",
    "# 2. Get rid of the whole attribute.\n",
    "# 3. set the value to some value(0,mean or median)."
   ]
  },
  {
   "cell_type": "code",
   "execution_count": 19,
   "id": "424bf506-3d6f-4db8-bc72-5dbfacbcb3b6",
   "metadata": {},
   "outputs": [
    {
     "data": {
      "text/plain": [
       "(399, 13)"
      ]
     },
     "execution_count": 19,
     "metadata": {},
     "output_type": "execute_result"
    }
   ],
   "source": [
    "# Option-1\n",
    "a=df.dropna(subset=['RM'])\n",
    "a.shape\n",
    "# Note the the original df dataframe is remain unchanged until we apply (inplace=true)."
   ]
  },
  {
   "cell_type": "code",
   "execution_count": 20,
   "id": "8001e7fd-6cdc-412b-aa15-50687c25e471",
   "metadata": {},
   "outputs": [
    {
     "data": {
      "text/plain": [
       "(404, 12)"
      ]
     },
     "execution_count": 20,
     "metadata": {},
     "output_type": "execute_result"
    }
   ],
   "source": [
    "# Option-2\n",
    "df.drop('RM',axis=1).shape\n",
    "# Note that there is no RM column and also, Note the the original df dataframe is remain unchanged "
   ]
  },
  {
   "cell_type": "code",
   "execution_count": 21,
   "id": "6f0b7589-ec17-4ef3-be30-69308d5a4e59",
   "metadata": {},
   "outputs": [
    {
     "data": {
      "text/plain": [
       "6.212"
      ]
     },
     "execution_count": 21,
     "metadata": {},
     "output_type": "execute_result"
    }
   ],
   "source": [
    "# Option-3\n",
    "# we put the median in the missing values, first we find the median of a column\n",
    "median=df['RM'].median()\n",
    "median"
   ]
  },
  {
   "cell_type": "code",
   "execution_count": 22,
   "id": "f72df5ba-3cc2-4f43-b59e-3e8f3b6a2240",
   "metadata": {},
   "outputs": [
    {
     "data": {
      "text/plain": [
       "75     6.279\n",
       "442    6.485\n",
       "15     5.935\n",
       "325    6.312\n",
       "388    5.390\n",
       "       ...  \n",
       "106    6.127\n",
       "270    6.240\n",
       "348    6.939\n",
       "435    6.461\n",
       "102    6.137\n",
       "Name: RM, Length: 404, dtype: float64"
      ]
     },
     "execution_count": 22,
     "metadata": {},
     "output_type": "execute_result"
    }
   ],
   "source": [
    "# Enter the median value in missing values.\n",
    "df['RM'].fillna(median)\n",
    "# Note the the original df dataframe is remain unchanged until we apply (inplace=true)."
   ]
  },
  {
   "cell_type": "code",
   "execution_count": 23,
   "id": "d453873b-70a7-4971-9698-552873577c9f",
   "metadata": {},
   "outputs": [
    {
     "data": {
      "text/plain": [
       "(404, 13)"
      ]
     },
     "execution_count": 23,
     "metadata": {},
     "output_type": "execute_result"
    }
   ],
   "source": [
    "df.shape"
   ]
  },
  {
   "cell_type": "code",
   "execution_count": 24,
   "id": "2104ec17-c8b4-418a-ba8d-c398c67cf5cb",
   "metadata": {},
   "outputs": [
    {
     "data": {
      "text/html": [
       "<div>\n",
       "<style scoped>\n",
       "    .dataframe tbody tr th:only-of-type {\n",
       "        vertical-align: middle;\n",
       "    }\n",
       "\n",
       "    .dataframe tbody tr th {\n",
       "        vertical-align: top;\n",
       "    }\n",
       "\n",
       "    .dataframe thead th {\n",
       "        text-align: right;\n",
       "    }\n",
       "</style>\n",
       "<table border=\"1\" class=\"dataframe\">\n",
       "  <thead>\n",
       "    <tr style=\"text-align: right;\">\n",
       "      <th></th>\n",
       "      <th>CRIM</th>\n",
       "      <th>ZN</th>\n",
       "      <th>INDUS</th>\n",
       "      <th>CHAS</th>\n",
       "      <th>NOX</th>\n",
       "      <th>RM</th>\n",
       "      <th>AGE</th>\n",
       "      <th>DIS</th>\n",
       "      <th>RAD</th>\n",
       "      <th>TAX</th>\n",
       "      <th>PTRATIO</th>\n",
       "      <th>B</th>\n",
       "      <th>LSTAT</th>\n",
       "    </tr>\n",
       "  </thead>\n",
       "  <tbody>\n",
       "    <tr>\n",
       "      <th>count</th>\n",
       "      <td>404.000000</td>\n",
       "      <td>404.000000</td>\n",
       "      <td>404.000000</td>\n",
       "      <td>404.000000</td>\n",
       "      <td>404.000000</td>\n",
       "      <td>399.000000</td>\n",
       "      <td>404.000000</td>\n",
       "      <td>404.000000</td>\n",
       "      <td>404.000000</td>\n",
       "      <td>404.000000</td>\n",
       "      <td>404.000000</td>\n",
       "      <td>404.000000</td>\n",
       "      <td>404.000000</td>\n",
       "    </tr>\n",
       "    <tr>\n",
       "      <th>mean</th>\n",
       "      <td>3.783410</td>\n",
       "      <td>11.618812</td>\n",
       "      <td>11.124183</td>\n",
       "      <td>0.069307</td>\n",
       "      <td>0.558549</td>\n",
       "      <td>6.311256</td>\n",
       "      <td>68.303218</td>\n",
       "      <td>3.797236</td>\n",
       "      <td>9.702970</td>\n",
       "      <td>410.202970</td>\n",
       "      <td>18.323762</td>\n",
       "      <td>354.835470</td>\n",
       "      <td>12.576114</td>\n",
       "    </tr>\n",
       "    <tr>\n",
       "      <th>std</th>\n",
       "      <td>9.092211</td>\n",
       "      <td>23.400934</td>\n",
       "      <td>6.921598</td>\n",
       "      <td>0.254290</td>\n",
       "      <td>0.118825</td>\n",
       "      <td>0.719643</td>\n",
       "      <td>28.285571</td>\n",
       "      <td>2.148429</td>\n",
       "      <td>8.707596</td>\n",
       "      <td>168.139309</td>\n",
       "      <td>2.224548</td>\n",
       "      <td>92.173066</td>\n",
       "      <td>7.124440</td>\n",
       "    </tr>\n",
       "    <tr>\n",
       "      <th>min</th>\n",
       "      <td>0.009060</td>\n",
       "      <td>0.000000</td>\n",
       "      <td>0.460000</td>\n",
       "      <td>0.000000</td>\n",
       "      <td>0.385000</td>\n",
       "      <td>3.863000</td>\n",
       "      <td>2.900000</td>\n",
       "      <td>1.129600</td>\n",
       "      <td>1.000000</td>\n",
       "      <td>187.000000</td>\n",
       "      <td>12.600000</td>\n",
       "      <td>0.320000</td>\n",
       "      <td>1.730000</td>\n",
       "    </tr>\n",
       "    <tr>\n",
       "      <th>25%</th>\n",
       "      <td>0.082598</td>\n",
       "      <td>0.000000</td>\n",
       "      <td>5.130000</td>\n",
       "      <td>0.000000</td>\n",
       "      <td>0.452000</td>\n",
       "      <td>5.885500</td>\n",
       "      <td>43.200000</td>\n",
       "      <td>2.064700</td>\n",
       "      <td>4.000000</td>\n",
       "      <td>281.000000</td>\n",
       "      <td>16.800000</td>\n",
       "      <td>372.787500</td>\n",
       "      <td>6.892500</td>\n",
       "    </tr>\n",
       "    <tr>\n",
       "      <th>50%</th>\n",
       "      <td>0.298675</td>\n",
       "      <td>0.000000</td>\n",
       "      <td>8.560000</td>\n",
       "      <td>0.000000</td>\n",
       "      <td>0.538000</td>\n",
       "      <td>6.212000</td>\n",
       "      <td>77.750000</td>\n",
       "      <td>3.107300</td>\n",
       "      <td>5.000000</td>\n",
       "      <td>336.000000</td>\n",
       "      <td>18.750000</td>\n",
       "      <td>390.925000</td>\n",
       "      <td>11.395000</td>\n",
       "    </tr>\n",
       "    <tr>\n",
       "      <th>75%</th>\n",
       "      <td>3.694070</td>\n",
       "      <td>20.000000</td>\n",
       "      <td>18.100000</td>\n",
       "      <td>0.000000</td>\n",
       "      <td>0.647000</td>\n",
       "      <td>6.635000</td>\n",
       "      <td>93.800000</td>\n",
       "      <td>5.255350</td>\n",
       "      <td>24.000000</td>\n",
       "      <td>666.000000</td>\n",
       "      <td>20.200000</td>\n",
       "      <td>395.945000</td>\n",
       "      <td>16.672500</td>\n",
       "    </tr>\n",
       "    <tr>\n",
       "      <th>max</th>\n",
       "      <td>88.976200</td>\n",
       "      <td>100.000000</td>\n",
       "      <td>27.740000</td>\n",
       "      <td>1.000000</td>\n",
       "      <td>0.871000</td>\n",
       "      <td>8.780000</td>\n",
       "      <td>100.000000</td>\n",
       "      <td>12.126500</td>\n",
       "      <td>24.000000</td>\n",
       "      <td>711.000000</td>\n",
       "      <td>22.000000</td>\n",
       "      <td>396.900000</td>\n",
       "      <td>37.970000</td>\n",
       "    </tr>\n",
       "  </tbody>\n",
       "</table>\n",
       "</div>"
      ],
      "text/plain": [
       "             CRIM          ZN       INDUS        CHAS         NOX          RM  \\\n",
       "count  404.000000  404.000000  404.000000  404.000000  404.000000  399.000000   \n",
       "mean     3.783410   11.618812   11.124183    0.069307    0.558549    6.311256   \n",
       "std      9.092211   23.400934    6.921598    0.254290    0.118825    0.719643   \n",
       "min      0.009060    0.000000    0.460000    0.000000    0.385000    3.863000   \n",
       "25%      0.082598    0.000000    5.130000    0.000000    0.452000    5.885500   \n",
       "50%      0.298675    0.000000    8.560000    0.000000    0.538000    6.212000   \n",
       "75%      3.694070   20.000000   18.100000    0.000000    0.647000    6.635000   \n",
       "max     88.976200  100.000000   27.740000    1.000000    0.871000    8.780000   \n",
       "\n",
       "              AGE         DIS         RAD         TAX     PTRATIO           B  \\\n",
       "count  404.000000  404.000000  404.000000  404.000000  404.000000  404.000000   \n",
       "mean    68.303218    3.797236    9.702970  410.202970   18.323762  354.835470   \n",
       "std     28.285571    2.148429    8.707596  168.139309    2.224548   92.173066   \n",
       "min      2.900000    1.129600    1.000000  187.000000   12.600000    0.320000   \n",
       "25%     43.200000    2.064700    4.000000  281.000000   16.800000  372.787500   \n",
       "50%     77.750000    3.107300    5.000000  336.000000   18.750000  390.925000   \n",
       "75%     93.800000    5.255350   24.000000  666.000000   20.200000  395.945000   \n",
       "max    100.000000   12.126500   24.000000  711.000000   22.000000  396.900000   \n",
       "\n",
       "            LSTAT  \n",
       "count  404.000000  \n",
       "mean    12.576114  \n",
       "std      7.124440  \n",
       "min      1.730000  \n",
       "25%      6.892500  \n",
       "50%     11.395000  \n",
       "75%     16.672500  \n",
       "max     37.970000  "
      ]
     },
     "execution_count": 24,
     "metadata": {},
     "output_type": "execute_result"
    }
   ],
   "source": [
    "df.describe() # before we started filling missing attributes"
   ]
  },
  {
   "cell_type": "code",
   "execution_count": 25,
   "id": "d1981609-cceb-4148-94d8-eb80268cb8cd",
   "metadata": {},
   "outputs": [
    {
     "data": {
      "text/html": [
       "<style>#sk-container-id-1 {color: black;}#sk-container-id-1 pre{padding: 0;}#sk-container-id-1 div.sk-toggleable {background-color: white;}#sk-container-id-1 label.sk-toggleable__label {cursor: pointer;display: block;width: 100%;margin-bottom: 0;padding: 0.3em;box-sizing: border-box;text-align: center;}#sk-container-id-1 label.sk-toggleable__label-arrow:before {content: \"▸\";float: left;margin-right: 0.25em;color: #696969;}#sk-container-id-1 label.sk-toggleable__label-arrow:hover:before {color: black;}#sk-container-id-1 div.sk-estimator:hover label.sk-toggleable__label-arrow:before {color: black;}#sk-container-id-1 div.sk-toggleable__content {max-height: 0;max-width: 0;overflow: hidden;text-align: left;background-color: #f0f8ff;}#sk-container-id-1 div.sk-toggleable__content pre {margin: 0.2em;color: black;border-radius: 0.25em;background-color: #f0f8ff;}#sk-container-id-1 input.sk-toggleable__control:checked~div.sk-toggleable__content {max-height: 200px;max-width: 100%;overflow: auto;}#sk-container-id-1 input.sk-toggleable__control:checked~label.sk-toggleable__label-arrow:before {content: \"▾\";}#sk-container-id-1 div.sk-estimator input.sk-toggleable__control:checked~label.sk-toggleable__label {background-color: #d4ebff;}#sk-container-id-1 div.sk-label input.sk-toggleable__control:checked~label.sk-toggleable__label {background-color: #d4ebff;}#sk-container-id-1 input.sk-hidden--visually {border: 0;clip: rect(1px 1px 1px 1px);clip: rect(1px, 1px, 1px, 1px);height: 1px;margin: -1px;overflow: hidden;padding: 0;position: absolute;width: 1px;}#sk-container-id-1 div.sk-estimator {font-family: monospace;background-color: #f0f8ff;border: 1px dotted black;border-radius: 0.25em;box-sizing: border-box;margin-bottom: 0.5em;}#sk-container-id-1 div.sk-estimator:hover {background-color: #d4ebff;}#sk-container-id-1 div.sk-parallel-item::after {content: \"\";width: 100%;border-bottom: 1px solid gray;flex-grow: 1;}#sk-container-id-1 div.sk-label:hover label.sk-toggleable__label {background-color: #d4ebff;}#sk-container-id-1 div.sk-serial::before {content: \"\";position: absolute;border-left: 1px solid gray;box-sizing: border-box;top: 0;bottom: 0;left: 50%;z-index: 0;}#sk-container-id-1 div.sk-serial {display: flex;flex-direction: column;align-items: center;background-color: white;padding-right: 0.2em;padding-left: 0.2em;position: relative;}#sk-container-id-1 div.sk-item {position: relative;z-index: 1;}#sk-container-id-1 div.sk-parallel {display: flex;align-items: stretch;justify-content: center;background-color: white;position: relative;}#sk-container-id-1 div.sk-item::before, #sk-container-id-1 div.sk-parallel-item::before {content: \"\";position: absolute;border-left: 1px solid gray;box-sizing: border-box;top: 0;bottom: 0;left: 50%;z-index: -1;}#sk-container-id-1 div.sk-parallel-item {display: flex;flex-direction: column;z-index: 1;position: relative;background-color: white;}#sk-container-id-1 div.sk-parallel-item:first-child::after {align-self: flex-end;width: 50%;}#sk-container-id-1 div.sk-parallel-item:last-child::after {align-self: flex-start;width: 50%;}#sk-container-id-1 div.sk-parallel-item:only-child::after {width: 0;}#sk-container-id-1 div.sk-dashed-wrapped {border: 1px dashed gray;margin: 0 0.4em 0.5em 0.4em;box-sizing: border-box;padding-bottom: 0.4em;background-color: white;}#sk-container-id-1 div.sk-label label {font-family: monospace;font-weight: bold;display: inline-block;line-height: 1.2em;}#sk-container-id-1 div.sk-label-container {text-align: center;}#sk-container-id-1 div.sk-container {/* jupyter's `normalize.less` sets `[hidden] { display: none; }` but bootstrap.min.css set `[hidden] { display: none !important; }` so we also need the `!important` here to be able to override the default hidden behavior on the sphinx rendered scikit-learn.org. See: https://github.com/scikit-learn/scikit-learn/issues/21755 */display: inline-block !important;position: relative;}#sk-container-id-1 div.sk-text-repr-fallback {display: none;}</style><div id=\"sk-container-id-1\" class=\"sk-top-container\"><div class=\"sk-text-repr-fallback\"><pre>SimpleImputer(strategy=&#x27;median&#x27;)</pre><b>In a Jupyter environment, please rerun this cell to show the HTML representation or trust the notebook. <br />On GitHub, the HTML representation is unable to render, please try loading this page with nbviewer.org.</b></div><div class=\"sk-container\" hidden><div class=\"sk-item\"><div class=\"sk-estimator sk-toggleable\"><input class=\"sk-toggleable__control sk-hidden--visually\" id=\"sk-estimator-id-1\" type=\"checkbox\" checked><label for=\"sk-estimator-id-1\" class=\"sk-toggleable__label sk-toggleable__label-arrow\">SimpleImputer</label><div class=\"sk-toggleable__content\"><pre>SimpleImputer(strategy=&#x27;median&#x27;)</pre></div></div></div></div></div>"
      ],
      "text/plain": [
       "SimpleImputer(strategy='median')"
      ]
     },
     "execution_count": 25,
     "metadata": {},
     "output_type": "execute_result"
    }
   ],
   "source": [
    "# we do above work using sklearn library, we will fill the missing values in any attribute by median using Imputer..\n",
    "from sklearn.impute import SimpleImputer\n",
    "imputer=SimpleImputer(strategy='median')\n",
    "imputer.fit(df)"
   ]
  },
  {
   "cell_type": "code",
   "execution_count": 26,
   "id": "406f344a-3ee3-4057-b6f7-2b32aa8dd17f",
   "metadata": {},
   "outputs": [
    {
     "data": {
      "text/plain": [
       "array([2.98675e-01, 0.00000e+00, 8.56000e+00, 0.00000e+00, 5.38000e-01,\n",
       "       6.21200e+00, 7.77500e+01, 3.10730e+00, 5.00000e+00, 3.36000e+02,\n",
       "       1.87500e+01, 3.90925e+02, 1.13950e+01])"
      ]
     },
     "execution_count": 26,
     "metadata": {},
     "output_type": "execute_result"
    }
   ],
   "source": [
    "imputer.statistics_"
   ]
  },
  {
   "cell_type": "code",
   "execution_count": 27,
   "id": "2fac24ca-e412-494c-9bbe-bd219692172c",
   "metadata": {},
   "outputs": [],
   "source": [
    "X=imputer.transform(df)"
   ]
  },
  {
   "cell_type": "code",
   "execution_count": 28,
   "id": "d998e538-c1e0-4f72-8dd0-95adc7533d7e",
   "metadata": {},
   "outputs": [],
   "source": [
    "# we make tranform DataFrame here (df_tr)\n",
    "df_tr=pd.DataFrame(X,columns=df.columns)"
   ]
  },
  {
   "cell_type": "code",
   "execution_count": 29,
   "id": "7be04b36-a498-44ec-bb3d-66562c74782b",
   "metadata": {},
   "outputs": [
    {
     "data": {
      "text/html": [
       "<div>\n",
       "<style scoped>\n",
       "    .dataframe tbody tr th:only-of-type {\n",
       "        vertical-align: middle;\n",
       "    }\n",
       "\n",
       "    .dataframe tbody tr th {\n",
       "        vertical-align: top;\n",
       "    }\n",
       "\n",
       "    .dataframe thead th {\n",
       "        text-align: right;\n",
       "    }\n",
       "</style>\n",
       "<table border=\"1\" class=\"dataframe\">\n",
       "  <thead>\n",
       "    <tr style=\"text-align: right;\">\n",
       "      <th></th>\n",
       "      <th>CRIM</th>\n",
       "      <th>ZN</th>\n",
       "      <th>INDUS</th>\n",
       "      <th>CHAS</th>\n",
       "      <th>NOX</th>\n",
       "      <th>RM</th>\n",
       "      <th>AGE</th>\n",
       "      <th>DIS</th>\n",
       "      <th>RAD</th>\n",
       "      <th>TAX</th>\n",
       "      <th>PTRATIO</th>\n",
       "      <th>B</th>\n",
       "      <th>LSTAT</th>\n",
       "    </tr>\n",
       "  </thead>\n",
       "  <tbody>\n",
       "    <tr>\n",
       "      <th>count</th>\n",
       "      <td>404.000000</td>\n",
       "      <td>404.000000</td>\n",
       "      <td>404.000000</td>\n",
       "      <td>404.000000</td>\n",
       "      <td>404.000000</td>\n",
       "      <td>404.000000</td>\n",
       "      <td>404.000000</td>\n",
       "      <td>404.000000</td>\n",
       "      <td>404.000000</td>\n",
       "      <td>404.000000</td>\n",
       "      <td>404.000000</td>\n",
       "      <td>404.000000</td>\n",
       "      <td>404.000000</td>\n",
       "    </tr>\n",
       "    <tr>\n",
       "      <th>mean</th>\n",
       "      <td>3.783410</td>\n",
       "      <td>11.618812</td>\n",
       "      <td>11.124183</td>\n",
       "      <td>0.069307</td>\n",
       "      <td>0.558549</td>\n",
       "      <td>6.310027</td>\n",
       "      <td>68.303218</td>\n",
       "      <td>3.797236</td>\n",
       "      <td>9.702970</td>\n",
       "      <td>410.202970</td>\n",
       "      <td>18.323762</td>\n",
       "      <td>354.835470</td>\n",
       "      <td>12.576114</td>\n",
       "    </tr>\n",
       "    <tr>\n",
       "      <th>std</th>\n",
       "      <td>9.092211</td>\n",
       "      <td>23.400934</td>\n",
       "      <td>6.921598</td>\n",
       "      <td>0.254290</td>\n",
       "      <td>0.118825</td>\n",
       "      <td>0.715249</td>\n",
       "      <td>28.285571</td>\n",
       "      <td>2.148429</td>\n",
       "      <td>8.707596</td>\n",
       "      <td>168.139309</td>\n",
       "      <td>2.224548</td>\n",
       "      <td>92.173066</td>\n",
       "      <td>7.124440</td>\n",
       "    </tr>\n",
       "    <tr>\n",
       "      <th>min</th>\n",
       "      <td>0.009060</td>\n",
       "      <td>0.000000</td>\n",
       "      <td>0.460000</td>\n",
       "      <td>0.000000</td>\n",
       "      <td>0.385000</td>\n",
       "      <td>3.863000</td>\n",
       "      <td>2.900000</td>\n",
       "      <td>1.129600</td>\n",
       "      <td>1.000000</td>\n",
       "      <td>187.000000</td>\n",
       "      <td>12.600000</td>\n",
       "      <td>0.320000</td>\n",
       "      <td>1.730000</td>\n",
       "    </tr>\n",
       "    <tr>\n",
       "      <th>25%</th>\n",
       "      <td>0.082598</td>\n",
       "      <td>0.000000</td>\n",
       "      <td>5.130000</td>\n",
       "      <td>0.000000</td>\n",
       "      <td>0.452000</td>\n",
       "      <td>5.887750</td>\n",
       "      <td>43.200000</td>\n",
       "      <td>2.064700</td>\n",
       "      <td>4.000000</td>\n",
       "      <td>281.000000</td>\n",
       "      <td>16.800000</td>\n",
       "      <td>372.787500</td>\n",
       "      <td>6.892500</td>\n",
       "    </tr>\n",
       "    <tr>\n",
       "      <th>50%</th>\n",
       "      <td>0.298675</td>\n",
       "      <td>0.000000</td>\n",
       "      <td>8.560000</td>\n",
       "      <td>0.000000</td>\n",
       "      <td>0.538000</td>\n",
       "      <td>6.212000</td>\n",
       "      <td>77.750000</td>\n",
       "      <td>3.107300</td>\n",
       "      <td>5.000000</td>\n",
       "      <td>336.000000</td>\n",
       "      <td>18.750000</td>\n",
       "      <td>390.925000</td>\n",
       "      <td>11.395000</td>\n",
       "    </tr>\n",
       "    <tr>\n",
       "      <th>75%</th>\n",
       "      <td>3.694070</td>\n",
       "      <td>20.000000</td>\n",
       "      <td>18.100000</td>\n",
       "      <td>0.000000</td>\n",
       "      <td>0.647000</td>\n",
       "      <td>6.632000</td>\n",
       "      <td>93.800000</td>\n",
       "      <td>5.255350</td>\n",
       "      <td>24.000000</td>\n",
       "      <td>666.000000</td>\n",
       "      <td>20.200000</td>\n",
       "      <td>395.945000</td>\n",
       "      <td>16.672500</td>\n",
       "    </tr>\n",
       "    <tr>\n",
       "      <th>max</th>\n",
       "      <td>88.976200</td>\n",
       "      <td>100.000000</td>\n",
       "      <td>27.740000</td>\n",
       "      <td>1.000000</td>\n",
       "      <td>0.871000</td>\n",
       "      <td>8.780000</td>\n",
       "      <td>100.000000</td>\n",
       "      <td>12.126500</td>\n",
       "      <td>24.000000</td>\n",
       "      <td>711.000000</td>\n",
       "      <td>22.000000</td>\n",
       "      <td>396.900000</td>\n",
       "      <td>37.970000</td>\n",
       "    </tr>\n",
       "  </tbody>\n",
       "</table>\n",
       "</div>"
      ],
      "text/plain": [
       "             CRIM          ZN       INDUS        CHAS         NOX          RM  \\\n",
       "count  404.000000  404.000000  404.000000  404.000000  404.000000  404.000000   \n",
       "mean     3.783410   11.618812   11.124183    0.069307    0.558549    6.310027   \n",
       "std      9.092211   23.400934    6.921598    0.254290    0.118825    0.715249   \n",
       "min      0.009060    0.000000    0.460000    0.000000    0.385000    3.863000   \n",
       "25%      0.082598    0.000000    5.130000    0.000000    0.452000    5.887750   \n",
       "50%      0.298675    0.000000    8.560000    0.000000    0.538000    6.212000   \n",
       "75%      3.694070   20.000000   18.100000    0.000000    0.647000    6.632000   \n",
       "max     88.976200  100.000000   27.740000    1.000000    0.871000    8.780000   \n",
       "\n",
       "              AGE         DIS         RAD         TAX     PTRATIO           B  \\\n",
       "count  404.000000  404.000000  404.000000  404.000000  404.000000  404.000000   \n",
       "mean    68.303218    3.797236    9.702970  410.202970   18.323762  354.835470   \n",
       "std     28.285571    2.148429    8.707596  168.139309    2.224548   92.173066   \n",
       "min      2.900000    1.129600    1.000000  187.000000   12.600000    0.320000   \n",
       "25%     43.200000    2.064700    4.000000  281.000000   16.800000  372.787500   \n",
       "50%     77.750000    3.107300    5.000000  336.000000   18.750000  390.925000   \n",
       "75%     93.800000    5.255350   24.000000  666.000000   20.200000  395.945000   \n",
       "max    100.000000   12.126500   24.000000  711.000000   22.000000  396.900000   \n",
       "\n",
       "            LSTAT  \n",
       "count  404.000000  \n",
       "mean    12.576114  \n",
       "std      7.124440  \n",
       "min      1.730000  \n",
       "25%      6.892500  \n",
       "50%     11.395000  \n",
       "75%     16.672500  \n",
       "max     37.970000  "
      ]
     },
     "execution_count": 29,
     "metadata": {},
     "output_type": "execute_result"
    }
   ],
   "source": [
    "df_tr.describe()"
   ]
  },
  {
   "cell_type": "markdown",
   "id": "97e2b365-bd70-4b97-b0cc-85dc010c8965",
   "metadata": {},
   "source": [
    "## Scikit-learn Design"
   ]
  },
  {
   "cell_type": "markdown",
   "id": "4479d25e-7a13-40e8-b567-fa3504a4be57",
   "metadata": {},
   "source": [
    "Primarily, three types of objects\n",
    "1. Estimators - It estimates some parameter based on a dataset. Eg. imputer. It has a fit method and transform method. Fit method - Fits the dataset and calculates internal parameters\n",
    "\n",
    "2. Transformers - transform method takes input and returns output based on the learnings from fit(). It also has a convenience function called fit_transform() which fits and then transforms.\n",
    "\n",
    "3. Predictors - LinearRegression model is an example of predictor. fit() and predict() are two common functions. It also gives score() function which will evaluate the predictions."
   ]
  },
  {
   "cell_type": "markdown",
   "id": "49e627fd-a043-4805-b317-8cd210bf107b",
   "metadata": {},
   "source": [
    "## Features Scaling"
   ]
  },
  {
   "cell_type": "markdown",
   "id": "9975e496-682d-4a7f-aacf-7634bfaee4cd",
   "metadata": {},
   "source": [
    "Primarily, two types of feature scaling methods:\r\n",
    "1. Min-max scaling (Normalization)\r\n",
    "    (value - min)/(max - min)\r\n",
    "    Sklearn provides a class called MinMaxScaler for this\r\n",
    "    \r\n",
    "2. Standardization\r\n",
    "    (value - mean)/std\r\n",
    "    Sklearn provides a class called StandardScaler for this\r\n"
   ]
  },
  {
   "cell_type": "markdown",
   "id": "bde9cc77-0ceb-4897-b15a-62d75310ea3d",
   "metadata": {},
   "source": [
    "## Creating Pipeline"
   ]
  },
  {
   "cell_type": "code",
   "execution_count": 30,
   "id": "f315ee3f-a312-4524-bfc9-712e5ac7b996",
   "metadata": {},
   "outputs": [],
   "source": [
    "from sklearn.pipeline import Pipeline\n",
    "from sklearn.preprocessing import StandardScaler\n",
    "my_pipeline=Pipeline([\n",
    "    ('imputer',SimpleImputer(strategy='median')),\n",
    "    # ..... Add as many as you want in your pipeline\n",
    "    ('std_scaler',StandardScaler()),\n",
    "])\n"
   ]
  },
  {
   "cell_type": "code",
   "execution_count": 31,
   "id": "c20ea21f-de3f-4dd4-ad13-f23dadda949b",
   "metadata": {},
   "outputs": [],
   "source": [
    "df_num_tr=my_pipeline.fit_transform(df)"
   ]
  },
  {
   "cell_type": "code",
   "execution_count": 32,
   "id": "45018d81-8ace-41b8-bb4e-a9187087ec96",
   "metadata": {},
   "outputs": [
    {
     "data": {
      "text/plain": [
       "(404, 13)"
      ]
     },
     "execution_count": 32,
     "metadata": {},
     "output_type": "execute_result"
    }
   ],
   "source": [
    "df_num_tr.shape"
   ]
  },
  {
   "cell_type": "markdown",
   "id": "d0c1c1a0-711c-42ee-8959-4ed5d9def16f",
   "metadata": {},
   "source": [
    "## Selecting a disired Model for Dragon Real Estates"
   ]
  },
  {
   "cell_type": "code",
   "execution_count": 33,
   "id": "bd7d02c6-2ece-429d-a122-a7ebe1f74cfc",
   "metadata": {},
   "outputs": [
    {
     "data": {
      "text/html": [
       "<style>#sk-container-id-2 {color: black;}#sk-container-id-2 pre{padding: 0;}#sk-container-id-2 div.sk-toggleable {background-color: white;}#sk-container-id-2 label.sk-toggleable__label {cursor: pointer;display: block;width: 100%;margin-bottom: 0;padding: 0.3em;box-sizing: border-box;text-align: center;}#sk-container-id-2 label.sk-toggleable__label-arrow:before {content: \"▸\";float: left;margin-right: 0.25em;color: #696969;}#sk-container-id-2 label.sk-toggleable__label-arrow:hover:before {color: black;}#sk-container-id-2 div.sk-estimator:hover label.sk-toggleable__label-arrow:before {color: black;}#sk-container-id-2 div.sk-toggleable__content {max-height: 0;max-width: 0;overflow: hidden;text-align: left;background-color: #f0f8ff;}#sk-container-id-2 div.sk-toggleable__content pre {margin: 0.2em;color: black;border-radius: 0.25em;background-color: #f0f8ff;}#sk-container-id-2 input.sk-toggleable__control:checked~div.sk-toggleable__content {max-height: 200px;max-width: 100%;overflow: auto;}#sk-container-id-2 input.sk-toggleable__control:checked~label.sk-toggleable__label-arrow:before {content: \"▾\";}#sk-container-id-2 div.sk-estimator input.sk-toggleable__control:checked~label.sk-toggleable__label {background-color: #d4ebff;}#sk-container-id-2 div.sk-label input.sk-toggleable__control:checked~label.sk-toggleable__label {background-color: #d4ebff;}#sk-container-id-2 input.sk-hidden--visually {border: 0;clip: rect(1px 1px 1px 1px);clip: rect(1px, 1px, 1px, 1px);height: 1px;margin: -1px;overflow: hidden;padding: 0;position: absolute;width: 1px;}#sk-container-id-2 div.sk-estimator {font-family: monospace;background-color: #f0f8ff;border: 1px dotted black;border-radius: 0.25em;box-sizing: border-box;margin-bottom: 0.5em;}#sk-container-id-2 div.sk-estimator:hover {background-color: #d4ebff;}#sk-container-id-2 div.sk-parallel-item::after {content: \"\";width: 100%;border-bottom: 1px solid gray;flex-grow: 1;}#sk-container-id-2 div.sk-label:hover label.sk-toggleable__label {background-color: #d4ebff;}#sk-container-id-2 div.sk-serial::before {content: \"\";position: absolute;border-left: 1px solid gray;box-sizing: border-box;top: 0;bottom: 0;left: 50%;z-index: 0;}#sk-container-id-2 div.sk-serial {display: flex;flex-direction: column;align-items: center;background-color: white;padding-right: 0.2em;padding-left: 0.2em;position: relative;}#sk-container-id-2 div.sk-item {position: relative;z-index: 1;}#sk-container-id-2 div.sk-parallel {display: flex;align-items: stretch;justify-content: center;background-color: white;position: relative;}#sk-container-id-2 div.sk-item::before, #sk-container-id-2 div.sk-parallel-item::before {content: \"\";position: absolute;border-left: 1px solid gray;box-sizing: border-box;top: 0;bottom: 0;left: 50%;z-index: -1;}#sk-container-id-2 div.sk-parallel-item {display: flex;flex-direction: column;z-index: 1;position: relative;background-color: white;}#sk-container-id-2 div.sk-parallel-item:first-child::after {align-self: flex-end;width: 50%;}#sk-container-id-2 div.sk-parallel-item:last-child::after {align-self: flex-start;width: 50%;}#sk-container-id-2 div.sk-parallel-item:only-child::after {width: 0;}#sk-container-id-2 div.sk-dashed-wrapped {border: 1px dashed gray;margin: 0 0.4em 0.5em 0.4em;box-sizing: border-box;padding-bottom: 0.4em;background-color: white;}#sk-container-id-2 div.sk-label label {font-family: monospace;font-weight: bold;display: inline-block;line-height: 1.2em;}#sk-container-id-2 div.sk-label-container {text-align: center;}#sk-container-id-2 div.sk-container {/* jupyter's `normalize.less` sets `[hidden] { display: none; }` but bootstrap.min.css set `[hidden] { display: none !important; }` so we also need the `!important` here to be able to override the default hidden behavior on the sphinx rendered scikit-learn.org. See: https://github.com/scikit-learn/scikit-learn/issues/21755 */display: inline-block !important;position: relative;}#sk-container-id-2 div.sk-text-repr-fallback {display: none;}</style><div id=\"sk-container-id-2\" class=\"sk-top-container\"><div class=\"sk-text-repr-fallback\"><pre>LinearRegression()</pre><b>In a Jupyter environment, please rerun this cell to show the HTML representation or trust the notebook. <br />On GitHub, the HTML representation is unable to render, please try loading this page with nbviewer.org.</b></div><div class=\"sk-container\" hidden><div class=\"sk-item\"><div class=\"sk-estimator sk-toggleable\"><input class=\"sk-toggleable__control sk-hidden--visually\" id=\"sk-estimator-id-2\" type=\"checkbox\" checked><label for=\"sk-estimator-id-2\" class=\"sk-toggleable__label sk-toggleable__label-arrow\">LinearRegression</label><div class=\"sk-toggleable__content\"><pre>LinearRegression()</pre></div></div></div></div></div>"
      ],
      "text/plain": [
       "LinearRegression()"
      ]
     },
     "execution_count": 33,
     "metadata": {},
     "output_type": "execute_result"
    }
   ],
   "source": [
    "from sklearn.linear_model import LinearRegression\n",
    "from sklearn.tree import DecisionTreeRegressor\n",
    "lin_model=LinearRegression()\n",
    "#tree_model=DecisionTreeRegressor()\n",
    "lin_model.fit(df_num_tr,df_labels)\n",
    "#tree_model.fit(df_num_tr,df_labels)"
   ]
  },
  {
   "cell_type": "code",
   "execution_count": 34,
   "id": "2cf297b3-48fd-423d-ac31-b8e019766c92",
   "metadata": {},
   "outputs": [],
   "source": [
    "some_data=df.iloc[:5]\n",
    "some_labels=df_labels.iloc[:5]"
   ]
  },
  {
   "cell_type": "code",
   "execution_count": 35,
   "id": "79ef2ce5-8974-4800-90cf-3b61c1432a3f",
   "metadata": {},
   "outputs": [],
   "source": [
    "prepared_data=my_pipeline.transform(some_data)"
   ]
  },
  {
   "cell_type": "code",
   "execution_count": 36,
   "id": "915013f9-ef46-494f-8e9c-d5a976249374",
   "metadata": {},
   "outputs": [
    {
     "data": {
      "text/plain": [
       "array([23.37048886, 18.5371175 , 20.68756568, 23.93387813, 14.28513332])"
      ]
     },
     "execution_count": 36,
     "metadata": {},
     "output_type": "execute_result"
    }
   ],
   "source": [
    "lin_model.predict(prepared_data)"
   ]
  },
  {
   "cell_type": "code",
   "execution_count": 37,
   "id": "aedf2f80-4c93-4f53-9672-21b1a8a388f8",
   "metadata": {},
   "outputs": [],
   "source": [
    "#tree_model.predict(prepared_data)"
   ]
  },
  {
   "cell_type": "code",
   "execution_count": 38,
   "id": "d5dc5bfe-90cc-4b3b-9455-5519f508c44d",
   "metadata": {},
   "outputs": [
    {
     "data": {
      "text/plain": [
       "[20.0, 15.4, 23.1, 23.0, 11.5]"
      ]
     },
     "execution_count": 38,
     "metadata": {},
     "output_type": "execute_result"
    }
   ],
   "source": [
    "list(some_labels)"
   ]
  },
  {
   "cell_type": "code",
   "execution_count": 39,
   "id": "26ab03f8-0775-4a89-b96e-b0b6f6eecd34",
   "metadata": {},
   "outputs": [],
   "source": [
    "import numpy as np\n",
    "from sklearn.metrics import mean_squared_error\n",
    "\n",
    "# Model-1: this mean_squared_error for linear_regression_model\n",
    "df_prediction=lin_model.predict(df_num_tr)\n",
    "lin_mse=mean_squared_error(df_labels,df_prediction)\n",
    "lin_rmse= np.sqrt(lin_mse)\n",
    "\n",
    "# Model-2: this mean_squared_error for Decision_tree_model\n",
    "#df_prediction=tree_model.predict(df_num_tr)\n",
    "#tree_mse=mean_squared_error(df_labels,df_prediction)\n",
    "#tree_rmse= np.sqrt(tree_mse)"
   ]
  },
  {
   "cell_type": "code",
   "execution_count": 40,
   "id": "f3eac8e9-e921-4ace-a198-ec94b7ba1c07",
   "metadata": {},
   "outputs": [
    {
     "data": {
      "text/plain": [
       "4.727045128837661"
      ]
     },
     "execution_count": 40,
     "metadata": {},
     "output_type": "execute_result"
    }
   ],
   "source": [
    "lin_rmse"
   ]
  },
  {
   "cell_type": "code",
   "execution_count": 41,
   "id": "c891275b-4f13-41c3-9027-f478c1eed45c",
   "metadata": {},
   "outputs": [],
   "source": [
    "#tree_rmse"
   ]
  },
  {
   "cell_type": "markdown",
   "id": "a1a57200-fcb9-4efd-b1bb-633f3348f744",
   "metadata": {},
   "source": [
    "## Using better Evalution technique- Cross validation"
   ]
  },
  {
   "cell_type": "code",
   "execution_count": 42,
   "id": "723a90f6-379d-49c1-b37e-b97cfe2a7a2b",
   "metadata": {},
   "outputs": [],
   "source": [
    "from sklearn.model_selection import cross_val_score\n",
    "# for linear_model\n",
    "score1=cross_val_score(lin_model,df_num_tr,df_labels,scoring='neg_mean_squared_error',cv=10)\n",
    "rmse_score1=np.sqrt(-score1)\n",
    "\n",
    "# for decison_tree_model\n",
    "#score2=cross_val_score(tree_model,df_num_tr,df_labels,scoring='neg_mean_squared_error',cv=10)\n",
    "#rmse_score2=np.sqrt(-score2)"
   ]
  },
  {
   "cell_type": "code",
   "execution_count": 43,
   "id": "6b22a652-caeb-4d19-b120-da066104a28f",
   "metadata": {},
   "outputs": [
    {
     "data": {
      "text/plain": [
       "array([4.44303015, 3.62571345, 4.55286993, 7.30323716, 4.52994453,\n",
       "       6.01740281, 4.62833844, 3.99510839, 4.91843119, 4.73660576])"
      ]
     },
     "execution_count": 43,
     "metadata": {},
     "output_type": "execute_result"
    }
   ],
   "source": [
    "rmse_score1\n"
   ]
  },
  {
   "cell_type": "code",
   "execution_count": 44,
   "id": "db3a438c-400b-476a-bf55-54b79c8f34cf",
   "metadata": {},
   "outputs": [],
   "source": [
    "#rmse_score2"
   ]
  },
  {
   "cell_type": "code",
   "execution_count": 45,
   "id": "b359b4dc-e96a-4f24-b2d6-133057413ef6",
   "metadata": {},
   "outputs": [],
   "source": [
    "def print_score1(score1):\n",
    "    print('scores',score1)\n",
    "    print('mean',score1.mean())\n",
    "    print('standard deviation',score1.std())\n",
    "\n",
    "#def print_score2(score2):\n",
    "    #print('scores',score2)\n",
    "    #print('mean',score2.mean())\n",
    "    #print('standard deviation',score2.std())\n",
    "    "
   ]
  },
  {
   "cell_type": "code",
   "execution_count": 46,
   "id": "f2e5aea7-3658-44cd-bc3d-546b1ccc6a60",
   "metadata": {},
   "outputs": [
    {
     "name": "stdout",
     "output_type": "stream",
     "text": [
      "scores [4.44303015 3.62571345 4.55286993 7.30323716 4.52994453 6.01740281\n",
      " 4.62833844 3.99510839 4.91843119 4.73660576]\n",
      "mean 4.875068182918335\n",
      "standard deviation 1.001381852425713\n"
     ]
    }
   ],
   "source": [
    "print_score1(rmse_score1)"
   ]
  },
  {
   "cell_type": "code",
   "execution_count": 47,
   "id": "a4191067-7cb9-41c0-bef7-8a3cc5db6e90",
   "metadata": {},
   "outputs": [],
   "source": [
    "#print_score2(rmse_score2)"
   ]
  },
  {
   "cell_type": "markdown",
   "id": "261322bc-fa54-4973-bab9-f4b173ed50ab",
   "metadata": {},
   "source": [
    "## Saving the Model"
   ]
  },
  {
   "cell_type": "code",
   "execution_count": 49,
   "id": "b7860bea-8e7d-49c6-91ac-fae0a940f740",
   "metadata": {},
   "outputs": [
    {
     "data": {
      "text/plain": [
       "['Dragon.joblib']"
      ]
     },
     "execution_count": 49,
     "metadata": {},
     "output_type": "execute_result"
    }
   ],
   "source": [
    "# joblib is used to save the model\n",
    "from joblib import dump,load\n",
    "dump(lin_model,'Dragon.joblib')"
   ]
  },
  {
   "cell_type": "markdown",
   "id": "ac80c23e-aa1d-4647-aae1-6b199ed36059",
   "metadata": {},
   "source": [
    "## Testing the Model on Test data"
   ]
  },
  {
   "cell_type": "code",
   "execution_count": 51,
   "id": "8b389d0e-3d5e-47de-a0c9-facfab8c9a0e",
   "metadata": {},
   "outputs": [],
   "source": [
    "X_test=test_set.drop('MEDV',axis=1)\n",
    "Y_test=test_set['MEDV'].copy()\n",
    "X_test_preperad=my_pipeline.transform(X_test)\n",
    "final_predictions=lin_model.predict(X_test_preperad)\n",
    "final_mse=mean_squared_error(Y_test,final_predictions)\n",
    "final_rmse=np.sqrt(final_mse)"
   ]
  },
  {
   "cell_type": "code",
   "execution_count": 53,
   "id": "e778a153-e4d5-445f-ac4a-137342930d78",
   "metadata": {},
   "outputs": [
    {
     "name": "stdout",
     "output_type": "stream",
     "text": [
      "[26.90932257 34.07921343 14.44139161 24.01851401 36.1068951  23.62208597\n",
      " 11.35049103  3.57757065 23.42969319 20.87122597 30.0684414  19.15987162\n",
      " 27.78287553 22.60451664 19.660162   26.21585327 22.74358321  7.82650029\n",
      " 36.16184328 17.93464059 28.82036205 35.60364862 18.53791056 24.14876656\n",
      " 18.32522548 11.27857388 28.62519099 21.584047   16.62509508 19.37390772\n",
      " 29.77077419 14.72665616 26.34541806 19.60599489 16.65898743 22.56245233\n",
      " 29.28682624 20.22384325 16.67288153 25.65594663 13.91754594 18.93206166\n",
      " 22.63498197 20.77418311 28.07238283 30.71416517 13.55732732 21.63184055\n",
      " 20.44181768 25.62224963 20.69068511 40.74662155 14.00146114 19.57334105\n",
      " 25.3697075  22.4593307  19.20225531 34.21101612 28.35131287 19.85694797\n",
      " 23.75271622 24.42449901 24.70276283 18.65704092 16.46192361 22.38517238\n",
      " 20.83111011 25.11253388 34.03879866 11.81057888 18.15035108 11.53919832\n",
      " 20.86487922 15.8017168  21.51654841  6.61659614 18.92716567 43.1904978\n",
      " 18.96994665  8.39175585 25.27834281 13.39183339 37.38086983  9.70553543\n",
      " 23.8121151  25.48942203 16.39493956 25.5021395  27.236679   14.09078122\n",
      " 29.81317998 19.41431629 20.83890869 28.69140855 14.09440741 16.21055829\n",
      " 23.0725289   0.1632169  30.66955723 20.57344489 26.25940689] [22.6, 32.0, 13.6, 23.4, 33.4, 20.8, 12.0, 14.4, 19.6, 16.8, 23.0, 15.0, 23.7, 20.3, 18.5, 21.6, 21.4, 7.2, 33.3, 14.1, 24.4, 35.1, 14.5, 22.4, 14.2, 11.8, 28.0, 21.0, 19.3, 18.3, 23.6, 14.9, 15.0, 22.6, 23.1, 17.0, 33.4, 19.5, 20.0, 24.1, 19.7, 16.1, 22.6, 20.9, 22.0, 24.8, 13.5, 21.7, 19.9, 21.6, 21.7, 46.0, 14.5, 18.6, 20.7, 21.2, 18.4, 37.3, 26.6, 24.3, 33.0, 24.7, 24.3, 18.2, 17.2, 21.7, 13.1, 22.9, 34.9, 12.7, 16.6, 16.3, 16.2, 20.6, 21.2, 5.0, 19.5, 50.0, 10.9, 7.0, 24.2, 17.2, 44.0, 9.7, 19.4, 24.0, 13.8, 25.0, 20.6, 13.3, 24.6, 18.5, 23.0, 23.9, 27.5, 18.4, 19.4, 17.9, 24.01, 22.9, 22.2]\n"
     ]
    }
   ],
   "source": [
    "print(final_predictions, list(Y_test))"
   ]
  },
  {
   "cell_type": "code",
   "execution_count": 52,
   "id": "408e5858-1ae2-458a-a886-c67bd40dfa0d",
   "metadata": {},
   "outputs": [
    {
     "data": {
      "text/plain": [
       "4.4415686668036605"
      ]
     },
     "execution_count": 52,
     "metadata": {},
     "output_type": "execute_result"
    }
   ],
   "source": [
    "final_rmse"
   ]
  },
  {
   "cell_type": "markdown",
   "id": "542c7b49-46bb-469c-9fc7-6d0d1912847b",
   "metadata": {},
   "source": [
    "## Using the Model"
   ]
  },
  {
   "cell_type": "code",
   "execution_count": 58,
   "id": "dd16121c-9f45-4b26-b84d-b658609298aa",
   "metadata": {},
   "outputs": [
    {
     "data": {
      "text/plain": [
       "array([-0.40545089, -0.49712624,  0.246754  , -0.27288841, -1.02419601,\n",
       "       -0.04343341,  0.21935091,  0.11882173, -0.54076943, -0.07266654,\n",
       "        0.16933961,  0.20448349, -0.08518079])"
      ]
     },
     "execution_count": 58,
     "metadata": {},
     "output_type": "execute_result"
    }
   ],
   "source": [
    "prepared_data[0]"
   ]
  },
  {
   "cell_type": "code",
   "execution_count": 61,
   "id": "772daf27-eb60-42fb-a6fb-8f740170e1c2",
   "metadata": {},
   "outputs": [
    {
     "data": {
      "text/plain": [
       "array([24.25880495])"
      ]
     },
     "execution_count": 61,
     "metadata": {},
     "output_type": "execute_result"
    }
   ],
   "source": [
    "from joblib import dump,load\n",
    "lin_model=load('Dragon.joblib')\n",
    "features=np.array([[-0.40545089, -0.49712624,  0.246754  , -0.27288841, -1.02419601,\n",
    "       -0.04343341,  0.21935091,  0.11882173, -0.54076943, -0.07266654,\n",
    "        0.16933961,  0.28448349, -0.28518079]])\n",
    "lin_model.predict(features)"
   ]
  },
  {
   "cell_type": "code",
   "execution_count": null,
   "id": "ebe8cf51-9d17-4628-9ac6-bfba5bdca3ce",
   "metadata": {},
   "outputs": [],
   "source": []
  },
  {
   "cell_type": "code",
   "execution_count": null,
   "id": "705fbf3d-9846-4d7b-8e37-edf94cf5a8b9",
   "metadata": {},
   "outputs": [],
   "source": []
  }
 ],
 "metadata": {
  "kernelspec": {
   "display_name": "Python 3 (ipykernel)",
   "language": "python",
   "name": "python3"
  },
  "language_info": {
   "codemirror_mode": {
    "name": "ipython",
    "version": 3
   },
   "file_extension": ".py",
   "mimetype": "text/x-python",
   "name": "python",
   "nbconvert_exporter": "python",
   "pygments_lexer": "ipython3",
   "version": "3.10.4"
  }
 },
 "nbformat": 4,
 "nbformat_minor": 5
}
